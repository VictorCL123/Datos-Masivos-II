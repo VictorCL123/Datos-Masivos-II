{
 "cells": [
  {
   "cell_type": "markdown",
   "metadata": {},
   "source": [
    "# Tarea 2 Reglas de Asociación"
   ]
  },
  {
   "cell_type": "markdown",
   "metadata": {},
   "source": [
    "Objetivo de la tarea. Identificar reglas de asociación asociadas a ingresos altos de los hogares. Nota: Ustedes decidirán a partir de que valor se considera ingreso alto para un hogar"
   ]
  },
  {
   "cell_type": "code",
   "execution_count": 1,
   "metadata": {},
   "outputs": [],
   "source": [
    "# Librerías\n",
    "import pandas as pd\n",
    "import numpy as np"
   ]
  },
  {
   "cell_type": "code",
   "execution_count": 2,
   "metadata": {},
   "outputs": [
    {
     "data": {
      "text/html": [
       "<div>\n",
       "<style scoped>\n",
       "    .dataframe tbody tr th:only-of-type {\n",
       "        vertical-align: middle;\n",
       "    }\n",
       "\n",
       "    .dataframe tbody tr th {\n",
       "        vertical-align: top;\n",
       "    }\n",
       "\n",
       "    .dataframe thead th {\n",
       "        text-align: right;\n",
       "    }\n",
       "</style>\n",
       "<table border=\"1\" class=\"dataframe\">\n",
       "  <thead>\n",
       "    <tr style=\"text-align: right;\">\n",
       "      <th></th>\n",
       "      <th>folioviv</th>\n",
       "      <th>foliohog</th>\n",
       "      <th>gasto</th>\n",
       "    </tr>\n",
       "  </thead>\n",
       "  <tbody>\n",
       "    <tr>\n",
       "      <th>0</th>\n",
       "      <td>100013601</td>\n",
       "      <td>1</td>\n",
       "      <td>30.0</td>\n",
       "    </tr>\n",
       "    <tr>\n",
       "      <th>1</th>\n",
       "      <td>100013601</td>\n",
       "      <td>1</td>\n",
       "      <td>84.0</td>\n",
       "    </tr>\n",
       "    <tr>\n",
       "      <th>2</th>\n",
       "      <td>100013601</td>\n",
       "      <td>1</td>\n",
       "      <td>60.0</td>\n",
       "    </tr>\n",
       "    <tr>\n",
       "      <th>3</th>\n",
       "      <td>100013601</td>\n",
       "      <td>1</td>\n",
       "      <td>33.0</td>\n",
       "    </tr>\n",
       "    <tr>\n",
       "      <th>4</th>\n",
       "      <td>100013601</td>\n",
       "      <td>1</td>\n",
       "      <td>2400.0</td>\n",
       "    </tr>\n",
       "  </tbody>\n",
       "</table>\n",
       "</div>"
      ],
      "text/plain": [
       "    folioviv  foliohog   gasto\n",
       "0  100013601         1    30.0\n",
       "1  100013601         1    84.0\n",
       "2  100013601         1    60.0\n",
       "3  100013601         1    33.0\n",
       "4  100013601         1  2400.0"
      ]
     },
     "execution_count": 2,
     "metadata": {},
     "output_type": "execute_result"
    }
   ],
   "source": [
    "# Leer los datos de Gasto\n",
    "valores_missing = ['', ' ']\n",
    "gasto = pd.read_csv(\"conjunto_de_datos_gastoshogar_enigh_2018_ns.csv\", \\\n",
    "                    usecols= [0,1,14], na_values = valores_missing)\n",
    "gasto.head()"
   ]
  },
  {
   "cell_type": "code",
   "execution_count": 3,
   "metadata": {},
   "outputs": [
    {
     "data": {
      "text/plain": [
       "(1048575, 3)"
      ]
     },
     "execution_count": 3,
     "metadata": {},
     "output_type": "execute_result"
    }
   ],
   "source": [
    "gasto.shape"
   ]
  },
  {
   "cell_type": "code",
   "execution_count": 4,
   "metadata": {},
   "outputs": [
    {
     "data": {
      "text/html": [
       "<div>\n",
       "<style scoped>\n",
       "    .dataframe tbody tr th:only-of-type {\n",
       "        vertical-align: middle;\n",
       "    }\n",
       "\n",
       "    .dataframe tbody tr th {\n",
       "        vertical-align: top;\n",
       "    }\n",
       "\n",
       "    .dataframe thead tr th {\n",
       "        text-align: left;\n",
       "    }\n",
       "\n",
       "    .dataframe thead tr:last-of-type th {\n",
       "        text-align: right;\n",
       "    }\n",
       "</style>\n",
       "<table border=\"1\" class=\"dataframe\">\n",
       "  <thead>\n",
       "    <tr>\n",
       "      <th></th>\n",
       "      <th></th>\n",
       "      <th>gasto</th>\n",
       "    </tr>\n",
       "    <tr>\n",
       "      <th></th>\n",
       "      <th></th>\n",
       "      <th>sum</th>\n",
       "    </tr>\n",
       "    <tr>\n",
       "      <th>folioviv</th>\n",
       "      <th>foliohog</th>\n",
       "      <th></th>\n",
       "    </tr>\n",
       "  </thead>\n",
       "  <tbody>\n",
       "    <tr>\n",
       "      <th>100013601</th>\n",
       "      <th>1</th>\n",
       "      <td>2607.0</td>\n",
       "    </tr>\n",
       "    <tr>\n",
       "      <th>100013602</th>\n",
       "      <th>1</th>\n",
       "      <td>23696.0</td>\n",
       "    </tr>\n",
       "    <tr>\n",
       "      <th>100013603</th>\n",
       "      <th>1</th>\n",
       "      <td>38780.0</td>\n",
       "    </tr>\n",
       "    <tr>\n",
       "      <th>100013604</th>\n",
       "      <th>1</th>\n",
       "      <td>7428.0</td>\n",
       "    </tr>\n",
       "    <tr>\n",
       "      <th>100013606</th>\n",
       "      <th>1</th>\n",
       "      <td>2547.0</td>\n",
       "    </tr>\n",
       "  </tbody>\n",
       "</table>\n",
       "</div>"
      ],
      "text/plain": [
       "                      gasto\n",
       "                        sum\n",
       "folioviv  foliohog         \n",
       "100013601 1          2607.0\n",
       "100013602 1         23696.0\n",
       "100013603 1         38780.0\n",
       "100013604 1          7428.0\n",
       "100013606 1          2547.0"
      ]
     },
     "execution_count": 4,
     "metadata": {},
     "output_type": "execute_result"
    }
   ],
   "source": [
    "# Colapsar la info a nivel hogar\n",
    "gasto_x_hogar =gasto.groupby(['folioviv','foliohog']).agg({'gasto':['sum']})\n",
    "gasto_x_hogar.head()"
   ]
  },
  {
   "cell_type": "code",
   "execution_count": 5,
   "metadata": {},
   "outputs": [
    {
     "data": {
      "text/plain": [
       "(44250, 1)"
      ]
     },
     "execution_count": 5,
     "metadata": {},
     "output_type": "execute_result"
    }
   ],
   "source": [
    "gasto_x_hogar.shape"
   ]
  },
  {
   "cell_type": "markdown",
   "metadata": {},
   "source": [
    "Definir valor para ingreso alto. Enuncia el porque de tu valor o incluye la referencia si utilizaste alguna"
   ]
  },
  {
   "cell_type": "code",
   "execution_count": 6,
   "metadata": {},
   "outputs": [
    {
     "data": {
      "text/plain": [
       "count    4.425000e+04\n",
       "mean     1.133672e+04\n",
       "std      2.832171e+04\n",
       "min      6.000000e+00\n",
       "0%       6.000000e+00\n",
       "10%      9.370000e+02\n",
       "20%      1.703800e+03\n",
       "30%      2.524700e+03\n",
       "40%      3.490000e+03\n",
       "50%      4.708000e+03\n",
       "60%      6.416000e+03\n",
       "70%      8.924000e+03\n",
       "80%      1.353940e+04\n",
       "90%      2.469000e+04\n",
       "max      1.356871e+06\n",
       "Name: (gasto, sum), dtype: float64"
      ]
     },
     "execution_count": 6,
     "metadata": {},
     "output_type": "execute_result"
    }
   ],
   "source": [
    "gasto_x_hogar['gasto','sum'].describe(percentiles = np.arange(0,1,.1))"
   ]
  },
  {
   "cell_type": "markdown",
   "metadata": {},
   "source": [
    "Considerare un ingreso alto con $7500 debido a que considerare como hogares con ingreso alto dividiendo a los ingresos por hogar entra 40% considerando la población con ingreso alto"
   ]
  },
  {
   "cell_type": "code",
   "execution_count": 7,
   "metadata": {},
   "outputs": [],
   "source": [
    "imgreso_alto = 7500"
   ]
  },
  {
   "cell_type": "code",
   "execution_count": 8,
   "metadata": {},
   "outputs": [],
   "source": [
    "\n",
    "gasto_x_hogar['ingreso_alto'] = gasto_x_hogar['gasto']['sum'].map(lambda x: x > imgreso_alto)\n",
    "\n",
    "# Borrar la variable gasto\n",
    "del gasto_x_hogar['gasto']"
   ]
  },
  {
   "cell_type": "code",
   "execution_count": 9,
   "metadata": {},
   "outputs": [
    {
     "name": "stdout",
     "output_type": "stream",
     "text": [
      "<class 'pandas.core.frame.DataFrame'>\n",
      "MultiIndex: 44250 entries, (100013601, 1) to (1909929214, 1)\n",
      "Data columns (total 1 columns):\n",
      " #   Column            Non-Null Count  Dtype\n",
      "---  ------            --------------  -----\n",
      " 0   (ingreso_alto, )  44250 non-null  bool \n",
      "dtypes: bool(1)\n",
      "memory usage: 599.6 KB\n"
     ]
    }
   ],
   "source": [
    "gasto_x_hogar.info()"
   ]
  },
  {
   "cell_type": "code",
   "execution_count": 10,
   "metadata": {},
   "outputs": [],
   "source": [
    "gasto_x_hogar.columns = ['ingreso_alto']"
   ]
  },
  {
   "cell_type": "code",
   "execution_count": 11,
   "metadata": {},
   "outputs": [
    {
     "data": {
      "text/html": [
       "<div>\n",
       "<style scoped>\n",
       "    .dataframe tbody tr th:only-of-type {\n",
       "        vertical-align: middle;\n",
       "    }\n",
       "\n",
       "    .dataframe tbody tr th {\n",
       "        vertical-align: top;\n",
       "    }\n",
       "\n",
       "    .dataframe thead th {\n",
       "        text-align: right;\n",
       "    }\n",
       "</style>\n",
       "<table border=\"1\" class=\"dataframe\">\n",
       "  <thead>\n",
       "    <tr style=\"text-align: right;\">\n",
       "      <th></th>\n",
       "      <th></th>\n",
       "      <th>ingreso_alto</th>\n",
       "    </tr>\n",
       "    <tr>\n",
       "      <th>folioviv</th>\n",
       "      <th>foliohog</th>\n",
       "      <th></th>\n",
       "    </tr>\n",
       "  </thead>\n",
       "  <tbody>\n",
       "    <tr>\n",
       "      <th>100013601</th>\n",
       "      <th>1</th>\n",
       "      <td>False</td>\n",
       "    </tr>\n",
       "    <tr>\n",
       "      <th>100013602</th>\n",
       "      <th>1</th>\n",
       "      <td>True</td>\n",
       "    </tr>\n",
       "    <tr>\n",
       "      <th>100013603</th>\n",
       "      <th>1</th>\n",
       "      <td>True</td>\n",
       "    </tr>\n",
       "    <tr>\n",
       "      <th>100013604</th>\n",
       "      <th>1</th>\n",
       "      <td>False</td>\n",
       "    </tr>\n",
       "    <tr>\n",
       "      <th>100013606</th>\n",
       "      <th>1</th>\n",
       "      <td>False</td>\n",
       "    </tr>\n",
       "    <tr>\n",
       "      <th>100026701</th>\n",
       "      <th>1</th>\n",
       "      <td>True</td>\n",
       "    </tr>\n",
       "    <tr>\n",
       "      <th>100026703</th>\n",
       "      <th>1</th>\n",
       "      <td>True</td>\n",
       "    </tr>\n",
       "    <tr>\n",
       "      <th>100026704</th>\n",
       "      <th>1</th>\n",
       "      <td>True</td>\n",
       "    </tr>\n",
       "    <tr>\n",
       "      <th>100026706</th>\n",
       "      <th>1</th>\n",
       "      <td>False</td>\n",
       "    </tr>\n",
       "    <tr>\n",
       "      <th>100027201</th>\n",
       "      <th>1</th>\n",
       "      <td>True</td>\n",
       "    </tr>\n",
       "  </tbody>\n",
       "</table>\n",
       "</div>"
      ],
      "text/plain": [
       "                    ingreso_alto\n",
       "folioviv  foliohog              \n",
       "100013601 1                False\n",
       "100013602 1                 True\n",
       "100013603 1                 True\n",
       "100013604 1                False\n",
       "100013606 1                False\n",
       "100026701 1                 True\n",
       "100026703 1                 True\n",
       "100026704 1                 True\n",
       "100026706 1                False\n",
       "100027201 1                 True"
      ]
     },
     "execution_count": 11,
     "metadata": {},
     "output_type": "execute_result"
    }
   ],
   "source": [
    "gasto_x_hogar.head(10)"
   ]
  },
  {
   "cell_type": "code",
   "execution_count": 12,
   "metadata": {},
   "outputs": [
    {
     "data": {
      "text/html": [
       "<div>\n",
       "<style scoped>\n",
       "    .dataframe tbody tr th:only-of-type {\n",
       "        vertical-align: middle;\n",
       "    }\n",
       "\n",
       "    .dataframe tbody tr th {\n",
       "        vertical-align: top;\n",
       "    }\n",
       "\n",
       "    .dataframe thead th {\n",
       "        text-align: right;\n",
       "    }\n",
       "</style>\n",
       "<table border=\"1\" class=\"dataframe\">\n",
       "  <thead>\n",
       "    <tr style=\"text-align: right;\">\n",
       "      <th></th>\n",
       "      <th></th>\n",
       "      <th>alim17_1</th>\n",
       "      <th>alim17_2</th>\n",
       "      <th>alim17_3</th>\n",
       "      <th>alim17_4</th>\n",
       "      <th>alim17_5</th>\n",
       "      <th>alim17_6</th>\n",
       "      <th>alim17_7</th>\n",
       "      <th>alim17_8</th>\n",
       "      <th>alim17_9</th>\n",
       "      <th>alim17_10</th>\n",
       "      <th>...</th>\n",
       "      <th>num_refri</th>\n",
       "      <th>num_estuf</th>\n",
       "      <th>num_lavad</th>\n",
       "      <th>num_planc</th>\n",
       "      <th>num_maqui</th>\n",
       "      <th>num_venti</th>\n",
       "      <th>num_aspir</th>\n",
       "      <th>num_compu</th>\n",
       "      <th>num_impre</th>\n",
       "      <th>num_juego</th>\n",
       "    </tr>\n",
       "    <tr>\n",
       "      <th>folioviv</th>\n",
       "      <th>foliohog</th>\n",
       "      <th></th>\n",
       "      <th></th>\n",
       "      <th></th>\n",
       "      <th></th>\n",
       "      <th></th>\n",
       "      <th></th>\n",
       "      <th></th>\n",
       "      <th></th>\n",
       "      <th></th>\n",
       "      <th></th>\n",
       "      <th></th>\n",
       "      <th></th>\n",
       "      <th></th>\n",
       "      <th></th>\n",
       "      <th></th>\n",
       "      <th></th>\n",
       "      <th></th>\n",
       "      <th></th>\n",
       "      <th></th>\n",
       "      <th></th>\n",
       "      <th></th>\n",
       "    </tr>\n",
       "  </thead>\n",
       "  <tbody>\n",
       "    <tr>\n",
       "      <th>100013601</th>\n",
       "      <th>1</th>\n",
       "      <td>7</td>\n",
       "      <td>1</td>\n",
       "      <td>7</td>\n",
       "      <td>7</td>\n",
       "      <td>4</td>\n",
       "      <td>7</td>\n",
       "      <td>1</td>\n",
       "      <td>7</td>\n",
       "      <td>7</td>\n",
       "      <td>7</td>\n",
       "      <td>...</td>\n",
       "      <td>1.0</td>\n",
       "      <td>1.0</td>\n",
       "      <td>1.0</td>\n",
       "      <td>1.0</td>\n",
       "      <td>1</td>\n",
       "      <td>1.0</td>\n",
       "      <td>1</td>\n",
       "      <td>1</td>\n",
       "      <td>0</td>\n",
       "      <td>0</td>\n",
       "    </tr>\n",
       "    <tr>\n",
       "      <th>100013602</th>\n",
       "      <th>1</th>\n",
       "      <td>7</td>\n",
       "      <td>3</td>\n",
       "      <td>4</td>\n",
       "      <td>3</td>\n",
       "      <td>3</td>\n",
       "      <td>2</td>\n",
       "      <td>0</td>\n",
       "      <td>5</td>\n",
       "      <td>7</td>\n",
       "      <td>5</td>\n",
       "      <td>...</td>\n",
       "      <td>1.0</td>\n",
       "      <td>1.0</td>\n",
       "      <td>1.0</td>\n",
       "      <td>1.0</td>\n",
       "      <td>1</td>\n",
       "      <td>1.0</td>\n",
       "      <td>1</td>\n",
       "      <td>2</td>\n",
       "      <td>1</td>\n",
       "      <td>1</td>\n",
       "    </tr>\n",
       "    <tr>\n",
       "      <th>100013603</th>\n",
       "      <th>1</th>\n",
       "      <td>4</td>\n",
       "      <td>2</td>\n",
       "      <td>5</td>\n",
       "      <td>4</td>\n",
       "      <td>5</td>\n",
       "      <td>3</td>\n",
       "      <td>2</td>\n",
       "      <td>2</td>\n",
       "      <td>3</td>\n",
       "      <td>4</td>\n",
       "      <td>...</td>\n",
       "      <td>1.0</td>\n",
       "      <td>1.0</td>\n",
       "      <td>1.0</td>\n",
       "      <td>1.0</td>\n",
       "      <td>0</td>\n",
       "      <td>1.0</td>\n",
       "      <td>0</td>\n",
       "      <td>1</td>\n",
       "      <td>0</td>\n",
       "      <td>0</td>\n",
       "    </tr>\n",
       "    <tr>\n",
       "      <th>100013604</th>\n",
       "      <th>1</th>\n",
       "      <td>7</td>\n",
       "      <td>3</td>\n",
       "      <td>7</td>\n",
       "      <td>7</td>\n",
       "      <td>4</td>\n",
       "      <td>7</td>\n",
       "      <td>1</td>\n",
       "      <td>5</td>\n",
       "      <td>2</td>\n",
       "      <td>7</td>\n",
       "      <td>...</td>\n",
       "      <td>1.0</td>\n",
       "      <td>1.0</td>\n",
       "      <td>1.0</td>\n",
       "      <td>1.0</td>\n",
       "      <td>1</td>\n",
       "      <td>5.0</td>\n",
       "      <td>0</td>\n",
       "      <td>0</td>\n",
       "      <td>0</td>\n",
       "      <td>0</td>\n",
       "    </tr>\n",
       "    <tr>\n",
       "      <th>100013606</th>\n",
       "      <th>1</th>\n",
       "      <td>7</td>\n",
       "      <td>1</td>\n",
       "      <td>1</td>\n",
       "      <td>7</td>\n",
       "      <td>3</td>\n",
       "      <td>7</td>\n",
       "      <td>0</td>\n",
       "      <td>2</td>\n",
       "      <td>7</td>\n",
       "      <td>7</td>\n",
       "      <td>...</td>\n",
       "      <td>1.0</td>\n",
       "      <td>1.0</td>\n",
       "      <td>1.0</td>\n",
       "      <td>1.0</td>\n",
       "      <td>0</td>\n",
       "      <td>0.0</td>\n",
       "      <td>0</td>\n",
       "      <td>0</td>\n",
       "      <td>0</td>\n",
       "      <td>0</td>\n",
       "    </tr>\n",
       "  </tbody>\n",
       "</table>\n",
       "<p>5 rows × 45 columns</p>\n",
       "</div>"
      ],
      "text/plain": [
       "                    alim17_1  alim17_2  alim17_3  alim17_4  alim17_5  \\\n",
       "folioviv  foliohog                                                     \n",
       "100013601 1                7         1         7         7         4   \n",
       "100013602 1                7         3         4         3         3   \n",
       "100013603 1                4         2         5         4         5   \n",
       "100013604 1                7         3         7         7         4   \n",
       "100013606 1                7         1         1         7         3   \n",
       "\n",
       "                    alim17_6  alim17_7  alim17_8  alim17_9  alim17_10  ...  \\\n",
       "folioviv  foliohog                                                     ...   \n",
       "100013601 1                7         1         7         7          7  ...   \n",
       "100013602 1                2         0         5         7          5  ...   \n",
       "100013603 1                3         2         2         3          4  ...   \n",
       "100013604 1                7         1         5         2          7  ...   \n",
       "100013606 1                7         0         2         7          7  ...   \n",
       "\n",
       "                    num_refri  num_estuf  num_lavad  num_planc  num_maqui  \\\n",
       "folioviv  foliohog                                                          \n",
       "100013601 1               1.0        1.0        1.0        1.0          1   \n",
       "100013602 1               1.0        1.0        1.0        1.0          1   \n",
       "100013603 1               1.0        1.0        1.0        1.0          0   \n",
       "100013604 1               1.0        1.0        1.0        1.0          1   \n",
       "100013606 1               1.0        1.0        1.0        1.0          0   \n",
       "\n",
       "                    num_venti  num_aspir  num_compu  num_impre  num_juego  \n",
       "folioviv  foliohog                                                         \n",
       "100013601 1               1.0          1          1          0          0  \n",
       "100013602 1               1.0          1          2          1          1  \n",
       "100013603 1               1.0          0          1          0          0  \n",
       "100013604 1               5.0          0          0          0          0  \n",
       "100013606 1               0.0          0          0          0          0  \n",
       "\n",
       "[5 rows x 45 columns]"
      ]
     },
     "execution_count": 12,
     "metadata": {},
     "output_type": "execute_result"
    }
   ],
   "source": [
    "valores_missing = ['', ' ']\n",
    "hogares = pd.read_csv(\"conjunto_de_datos_hogares_enigh_2018_ns.csv\", \\\n",
    "                    index_col= [0,1], \\\n",
    "                    usecols= [0, 1, 22, 23, 24, 25, 26, 27, 28, 29, 30, 31, 32, 33, 35, 36, 37, 38, 39, \\\n",
    "                              41, 43, 45, 47, 49, 51, 53, 55, 57, 59, 61, 63, 65, 67, 69, 71, 73, 75, \\\n",
    "                              77, 79, 81, 83, 85, 87, 89, 91, 93, 95], \\\n",
    "                      na_values = valores_missing)\n",
    "hogares.head()"
   ]
  },
  {
   "cell_type": "code",
   "execution_count": 13,
   "metadata": {},
   "outputs": [
    {
     "data": {
      "text/plain": [
       "(74647, 45)"
      ]
     },
     "execution_count": 13,
     "metadata": {},
     "output_type": "execute_result"
    }
   ],
   "source": [
    "hogares.shape"
   ]
  },
  {
   "cell_type": "code",
   "execution_count": 14,
   "metadata": {},
   "outputs": [],
   "source": [
    "# Transformar a valores Booleanos\n",
    "hogares_bool = hogares > 0"
   ]
  },
  {
   "cell_type": "code",
   "execution_count": 15,
   "metadata": {},
   "outputs": [
    {
     "data": {
      "text/plain": [
       "(74647, 46)"
      ]
     },
     "execution_count": 15,
     "metadata": {},
     "output_type": "execute_result"
    }
   ],
   "source": [
    "union = hogares_bool.merge(gasto_x_hogar, how='left', left_index=True, right_index=True)\n",
    "union.shape"
   ]
  },
  {
   "cell_type": "code",
   "execution_count": 16,
   "metadata": {},
   "outputs": [
    {
     "data": {
      "text/html": [
       "<div>\n",
       "<style scoped>\n",
       "    .dataframe tbody tr th:only-of-type {\n",
       "        vertical-align: middle;\n",
       "    }\n",
       "\n",
       "    .dataframe tbody tr th {\n",
       "        vertical-align: top;\n",
       "    }\n",
       "\n",
       "    .dataframe thead th {\n",
       "        text-align: right;\n",
       "    }\n",
       "</style>\n",
       "<table border=\"1\" class=\"dataframe\">\n",
       "  <thead>\n",
       "    <tr style=\"text-align: right;\">\n",
       "      <th></th>\n",
       "      <th></th>\n",
       "      <th>alim17_1</th>\n",
       "      <th>alim17_2</th>\n",
       "      <th>alim17_3</th>\n",
       "      <th>alim17_4</th>\n",
       "      <th>alim17_5</th>\n",
       "      <th>alim17_6</th>\n",
       "      <th>alim17_7</th>\n",
       "      <th>alim17_8</th>\n",
       "      <th>alim17_9</th>\n",
       "      <th>alim17_10</th>\n",
       "      <th>...</th>\n",
       "      <th>num_estuf</th>\n",
       "      <th>num_lavad</th>\n",
       "      <th>num_planc</th>\n",
       "      <th>num_maqui</th>\n",
       "      <th>num_venti</th>\n",
       "      <th>num_aspir</th>\n",
       "      <th>num_compu</th>\n",
       "      <th>num_impre</th>\n",
       "      <th>num_juego</th>\n",
       "      <th>ingreso_alto</th>\n",
       "    </tr>\n",
       "    <tr>\n",
       "      <th>folioviv</th>\n",
       "      <th>foliohog</th>\n",
       "      <th></th>\n",
       "      <th></th>\n",
       "      <th></th>\n",
       "      <th></th>\n",
       "      <th></th>\n",
       "      <th></th>\n",
       "      <th></th>\n",
       "      <th></th>\n",
       "      <th></th>\n",
       "      <th></th>\n",
       "      <th></th>\n",
       "      <th></th>\n",
       "      <th></th>\n",
       "      <th></th>\n",
       "      <th></th>\n",
       "      <th></th>\n",
       "      <th></th>\n",
       "      <th></th>\n",
       "      <th></th>\n",
       "      <th></th>\n",
       "      <th></th>\n",
       "    </tr>\n",
       "  </thead>\n",
       "  <tbody>\n",
       "    <tr>\n",
       "      <th>100013601</th>\n",
       "      <th>1</th>\n",
       "      <td>True</td>\n",
       "      <td>True</td>\n",
       "      <td>True</td>\n",
       "      <td>True</td>\n",
       "      <td>True</td>\n",
       "      <td>True</td>\n",
       "      <td>True</td>\n",
       "      <td>True</td>\n",
       "      <td>True</td>\n",
       "      <td>True</td>\n",
       "      <td>...</td>\n",
       "      <td>True</td>\n",
       "      <td>True</td>\n",
       "      <td>True</td>\n",
       "      <td>True</td>\n",
       "      <td>True</td>\n",
       "      <td>True</td>\n",
       "      <td>True</td>\n",
       "      <td>False</td>\n",
       "      <td>False</td>\n",
       "      <td>False</td>\n",
       "    </tr>\n",
       "    <tr>\n",
       "      <th>100013602</th>\n",
       "      <th>1</th>\n",
       "      <td>True</td>\n",
       "      <td>True</td>\n",
       "      <td>True</td>\n",
       "      <td>True</td>\n",
       "      <td>True</td>\n",
       "      <td>True</td>\n",
       "      <td>False</td>\n",
       "      <td>True</td>\n",
       "      <td>True</td>\n",
       "      <td>True</td>\n",
       "      <td>...</td>\n",
       "      <td>True</td>\n",
       "      <td>True</td>\n",
       "      <td>True</td>\n",
       "      <td>True</td>\n",
       "      <td>True</td>\n",
       "      <td>True</td>\n",
       "      <td>True</td>\n",
       "      <td>True</td>\n",
       "      <td>True</td>\n",
       "      <td>True</td>\n",
       "    </tr>\n",
       "    <tr>\n",
       "      <th>100013603</th>\n",
       "      <th>1</th>\n",
       "      <td>True</td>\n",
       "      <td>True</td>\n",
       "      <td>True</td>\n",
       "      <td>True</td>\n",
       "      <td>True</td>\n",
       "      <td>True</td>\n",
       "      <td>True</td>\n",
       "      <td>True</td>\n",
       "      <td>True</td>\n",
       "      <td>True</td>\n",
       "      <td>...</td>\n",
       "      <td>True</td>\n",
       "      <td>True</td>\n",
       "      <td>True</td>\n",
       "      <td>False</td>\n",
       "      <td>True</td>\n",
       "      <td>False</td>\n",
       "      <td>True</td>\n",
       "      <td>False</td>\n",
       "      <td>False</td>\n",
       "      <td>True</td>\n",
       "    </tr>\n",
       "    <tr>\n",
       "      <th>100013604</th>\n",
       "      <th>1</th>\n",
       "      <td>True</td>\n",
       "      <td>True</td>\n",
       "      <td>True</td>\n",
       "      <td>True</td>\n",
       "      <td>True</td>\n",
       "      <td>True</td>\n",
       "      <td>True</td>\n",
       "      <td>True</td>\n",
       "      <td>True</td>\n",
       "      <td>True</td>\n",
       "      <td>...</td>\n",
       "      <td>True</td>\n",
       "      <td>True</td>\n",
       "      <td>True</td>\n",
       "      <td>True</td>\n",
       "      <td>True</td>\n",
       "      <td>False</td>\n",
       "      <td>False</td>\n",
       "      <td>False</td>\n",
       "      <td>False</td>\n",
       "      <td>False</td>\n",
       "    </tr>\n",
       "    <tr>\n",
       "      <th>100013606</th>\n",
       "      <th>1</th>\n",
       "      <td>True</td>\n",
       "      <td>True</td>\n",
       "      <td>True</td>\n",
       "      <td>True</td>\n",
       "      <td>True</td>\n",
       "      <td>True</td>\n",
       "      <td>False</td>\n",
       "      <td>True</td>\n",
       "      <td>True</td>\n",
       "      <td>True</td>\n",
       "      <td>...</td>\n",
       "      <td>True</td>\n",
       "      <td>True</td>\n",
       "      <td>True</td>\n",
       "      <td>False</td>\n",
       "      <td>False</td>\n",
       "      <td>False</td>\n",
       "      <td>False</td>\n",
       "      <td>False</td>\n",
       "      <td>False</td>\n",
       "      <td>False</td>\n",
       "    </tr>\n",
       "  </tbody>\n",
       "</table>\n",
       "<p>5 rows × 46 columns</p>\n",
       "</div>"
      ],
      "text/plain": [
       "                    alim17_1  alim17_2  alim17_3  alim17_4  alim17_5  \\\n",
       "folioviv  foliohog                                                     \n",
       "100013601 1             True      True      True      True      True   \n",
       "100013602 1             True      True      True      True      True   \n",
       "100013603 1             True      True      True      True      True   \n",
       "100013604 1             True      True      True      True      True   \n",
       "100013606 1             True      True      True      True      True   \n",
       "\n",
       "                    alim17_6  alim17_7  alim17_8  alim17_9  alim17_10  ...  \\\n",
       "folioviv  foliohog                                                     ...   \n",
       "100013601 1             True      True      True      True       True  ...   \n",
       "100013602 1             True     False      True      True       True  ...   \n",
       "100013603 1             True      True      True      True       True  ...   \n",
       "100013604 1             True      True      True      True       True  ...   \n",
       "100013606 1             True     False      True      True       True  ...   \n",
       "\n",
       "                    num_estuf  num_lavad  num_planc  num_maqui  num_venti  \\\n",
       "folioviv  foliohog                                                          \n",
       "100013601 1              True       True       True       True       True   \n",
       "100013602 1              True       True       True       True       True   \n",
       "100013603 1              True       True       True      False       True   \n",
       "100013604 1              True       True       True       True       True   \n",
       "100013606 1              True       True       True      False      False   \n",
       "\n",
       "                    num_aspir  num_compu  num_impre  num_juego  ingreso_alto  \n",
       "folioviv  foliohog                                                            \n",
       "100013601 1              True       True      False      False         False  \n",
       "100013602 1              True       True       True       True          True  \n",
       "100013603 1             False       True      False      False          True  \n",
       "100013604 1             False      False      False      False         False  \n",
       "100013606 1             False      False      False      False         False  \n",
       "\n",
       "[5 rows x 46 columns]"
      ]
     },
     "execution_count": 16,
     "metadata": {},
     "output_type": "execute_result"
    }
   ],
   "source": [
    "union.head()"
   ]
  },
  {
   "cell_type": "code",
   "execution_count": 17,
   "metadata": {},
   "outputs": [
    {
     "data": {
      "text/plain": [
       "30397"
      ]
     },
     "execution_count": 17,
     "metadata": {},
     "output_type": "execute_result"
    }
   ],
   "source": [
    "# Checar la cantidad de missings para la variable gasto\n",
    "union.ingreso_alto.isnull().sum()"
   ]
  },
  {
   "cell_type": "code",
   "execution_count": 18,
   "metadata": {},
   "outputs": [
    {
     "name": "stderr",
     "output_type": "stream",
     "text": [
      "/home/vick/virtual_env/lib/python3.6/site-packages/ipykernel_launcher.py:3: SettingWithCopyWarning: \n",
      "A value is trying to be set on a copy of a slice from a DataFrame.\n",
      "Try using .loc[row_indexer,col_indexer] = value instead\n",
      "\n",
      "See the caveats in the documentation: https://pandas.pydata.org/pandas-docs/stable/user_guide/indexing.html#returning-a-view-versus-a-copy\n",
      "  This is separate from the ipykernel package so we can avoid doing imports until\n"
     ]
    },
    {
     "data": {
      "text/plain": [
       "(44250, 46)"
      ]
     },
     "execution_count": 18,
     "metadata": {},
     "output_type": "execute_result"
    }
   ],
   "source": [
    "# filtrar donde no haya missings\n",
    "datos = union[union.ingreso_alto.notnull()]\n",
    "datos[\"ingreso_alto\"] = datos[\"ingreso_alto\"].astype(bool)\n",
    "datos.shape"
   ]
  },
  {
   "cell_type": "code",
   "execution_count": 19,
   "metadata": {},
   "outputs": [
    {
     "data": {
      "text/html": [
       "<div>\n",
       "<style scoped>\n",
       "    .dataframe tbody tr th:only-of-type {\n",
       "        vertical-align: middle;\n",
       "    }\n",
       "\n",
       "    .dataframe tbody tr th {\n",
       "        vertical-align: top;\n",
       "    }\n",
       "\n",
       "    .dataframe thead th {\n",
       "        text-align: right;\n",
       "    }\n",
       "</style>\n",
       "<table border=\"1\" class=\"dataframe\">\n",
       "  <thead>\n",
       "    <tr style=\"text-align: right;\">\n",
       "      <th></th>\n",
       "      <th></th>\n",
       "      <th>alim17_1</th>\n",
       "      <th>alim17_2</th>\n",
       "      <th>alim17_3</th>\n",
       "      <th>alim17_4</th>\n",
       "      <th>alim17_5</th>\n",
       "      <th>alim17_6</th>\n",
       "      <th>alim17_7</th>\n",
       "      <th>alim17_8</th>\n",
       "      <th>alim17_9</th>\n",
       "      <th>alim17_10</th>\n",
       "      <th>...</th>\n",
       "      <th>num_estuf</th>\n",
       "      <th>num_lavad</th>\n",
       "      <th>num_planc</th>\n",
       "      <th>num_maqui</th>\n",
       "      <th>num_venti</th>\n",
       "      <th>num_aspir</th>\n",
       "      <th>num_compu</th>\n",
       "      <th>num_impre</th>\n",
       "      <th>num_juego</th>\n",
       "      <th>ingreso_alto</th>\n",
       "    </tr>\n",
       "    <tr>\n",
       "      <th>folioviv</th>\n",
       "      <th>foliohog</th>\n",
       "      <th></th>\n",
       "      <th></th>\n",
       "      <th></th>\n",
       "      <th></th>\n",
       "      <th></th>\n",
       "      <th></th>\n",
       "      <th></th>\n",
       "      <th></th>\n",
       "      <th></th>\n",
       "      <th></th>\n",
       "      <th></th>\n",
       "      <th></th>\n",
       "      <th></th>\n",
       "      <th></th>\n",
       "      <th></th>\n",
       "      <th></th>\n",
       "      <th></th>\n",
       "      <th></th>\n",
       "      <th></th>\n",
       "      <th></th>\n",
       "      <th></th>\n",
       "    </tr>\n",
       "  </thead>\n",
       "  <tbody>\n",
       "    <tr>\n",
       "      <th>100013601</th>\n",
       "      <th>1</th>\n",
       "      <td>True</td>\n",
       "      <td>True</td>\n",
       "      <td>True</td>\n",
       "      <td>True</td>\n",
       "      <td>True</td>\n",
       "      <td>True</td>\n",
       "      <td>True</td>\n",
       "      <td>True</td>\n",
       "      <td>True</td>\n",
       "      <td>True</td>\n",
       "      <td>...</td>\n",
       "      <td>True</td>\n",
       "      <td>True</td>\n",
       "      <td>True</td>\n",
       "      <td>True</td>\n",
       "      <td>True</td>\n",
       "      <td>True</td>\n",
       "      <td>True</td>\n",
       "      <td>False</td>\n",
       "      <td>False</td>\n",
       "      <td>False</td>\n",
       "    </tr>\n",
       "    <tr>\n",
       "      <th>100013602</th>\n",
       "      <th>1</th>\n",
       "      <td>True</td>\n",
       "      <td>True</td>\n",
       "      <td>True</td>\n",
       "      <td>True</td>\n",
       "      <td>True</td>\n",
       "      <td>True</td>\n",
       "      <td>False</td>\n",
       "      <td>True</td>\n",
       "      <td>True</td>\n",
       "      <td>True</td>\n",
       "      <td>...</td>\n",
       "      <td>True</td>\n",
       "      <td>True</td>\n",
       "      <td>True</td>\n",
       "      <td>True</td>\n",
       "      <td>True</td>\n",
       "      <td>True</td>\n",
       "      <td>True</td>\n",
       "      <td>True</td>\n",
       "      <td>True</td>\n",
       "      <td>True</td>\n",
       "    </tr>\n",
       "    <tr>\n",
       "      <th>100013603</th>\n",
       "      <th>1</th>\n",
       "      <td>True</td>\n",
       "      <td>True</td>\n",
       "      <td>True</td>\n",
       "      <td>True</td>\n",
       "      <td>True</td>\n",
       "      <td>True</td>\n",
       "      <td>True</td>\n",
       "      <td>True</td>\n",
       "      <td>True</td>\n",
       "      <td>True</td>\n",
       "      <td>...</td>\n",
       "      <td>True</td>\n",
       "      <td>True</td>\n",
       "      <td>True</td>\n",
       "      <td>False</td>\n",
       "      <td>True</td>\n",
       "      <td>False</td>\n",
       "      <td>True</td>\n",
       "      <td>False</td>\n",
       "      <td>False</td>\n",
       "      <td>True</td>\n",
       "    </tr>\n",
       "    <tr>\n",
       "      <th>100013604</th>\n",
       "      <th>1</th>\n",
       "      <td>True</td>\n",
       "      <td>True</td>\n",
       "      <td>True</td>\n",
       "      <td>True</td>\n",
       "      <td>True</td>\n",
       "      <td>True</td>\n",
       "      <td>True</td>\n",
       "      <td>True</td>\n",
       "      <td>True</td>\n",
       "      <td>True</td>\n",
       "      <td>...</td>\n",
       "      <td>True</td>\n",
       "      <td>True</td>\n",
       "      <td>True</td>\n",
       "      <td>True</td>\n",
       "      <td>True</td>\n",
       "      <td>False</td>\n",
       "      <td>False</td>\n",
       "      <td>False</td>\n",
       "      <td>False</td>\n",
       "      <td>False</td>\n",
       "    </tr>\n",
       "    <tr>\n",
       "      <th>100013606</th>\n",
       "      <th>1</th>\n",
       "      <td>True</td>\n",
       "      <td>True</td>\n",
       "      <td>True</td>\n",
       "      <td>True</td>\n",
       "      <td>True</td>\n",
       "      <td>True</td>\n",
       "      <td>False</td>\n",
       "      <td>True</td>\n",
       "      <td>True</td>\n",
       "      <td>True</td>\n",
       "      <td>...</td>\n",
       "      <td>True</td>\n",
       "      <td>True</td>\n",
       "      <td>True</td>\n",
       "      <td>False</td>\n",
       "      <td>False</td>\n",
       "      <td>False</td>\n",
       "      <td>False</td>\n",
       "      <td>False</td>\n",
       "      <td>False</td>\n",
       "      <td>False</td>\n",
       "    </tr>\n",
       "  </tbody>\n",
       "</table>\n",
       "<p>5 rows × 46 columns</p>\n",
       "</div>"
      ],
      "text/plain": [
       "                    alim17_1  alim17_2  alim17_3  alim17_4  alim17_5  \\\n",
       "folioviv  foliohog                                                     \n",
       "100013601 1             True      True      True      True      True   \n",
       "100013602 1             True      True      True      True      True   \n",
       "100013603 1             True      True      True      True      True   \n",
       "100013604 1             True      True      True      True      True   \n",
       "100013606 1             True      True      True      True      True   \n",
       "\n",
       "                    alim17_6  alim17_7  alim17_8  alim17_9  alim17_10  ...  \\\n",
       "folioviv  foliohog                                                     ...   \n",
       "100013601 1             True      True      True      True       True  ...   \n",
       "100013602 1             True     False      True      True       True  ...   \n",
       "100013603 1             True      True      True      True       True  ...   \n",
       "100013604 1             True      True      True      True       True  ...   \n",
       "100013606 1             True     False      True      True       True  ...   \n",
       "\n",
       "                    num_estuf  num_lavad  num_planc  num_maqui  num_venti  \\\n",
       "folioviv  foliohog                                                          \n",
       "100013601 1              True       True       True       True       True   \n",
       "100013602 1              True       True       True       True       True   \n",
       "100013603 1              True       True       True      False       True   \n",
       "100013604 1              True       True       True       True       True   \n",
       "100013606 1              True       True       True      False      False   \n",
       "\n",
       "                    num_aspir  num_compu  num_impre  num_juego  ingreso_alto  \n",
       "folioviv  foliohog                                                            \n",
       "100013601 1              True       True      False      False         False  \n",
       "100013602 1              True       True       True       True          True  \n",
       "100013603 1             False       True      False      False          True  \n",
       "100013604 1             False      False      False      False         False  \n",
       "100013606 1             False      False      False      False         False  \n",
       "\n",
       "[5 rows x 46 columns]"
      ]
     },
     "execution_count": 19,
     "metadata": {},
     "output_type": "execute_result"
    }
   ],
   "source": [
    "datos.head()"
   ]
  },
  {
   "cell_type": "code",
   "execution_count": 20,
   "metadata": {},
   "outputs": [
    {
     "data": {
      "text/plain": [
       "15561"
      ]
     },
     "execution_count": 20,
     "metadata": {},
     "output_type": "execute_result"
    }
   ],
   "source": [
    "# Revisar cuantos registros tienen ingreso alto\n",
    "datos.ingreso_alto.sum()"
   ]
  },
  {
   "cell_type": "code",
   "execution_count": 21,
   "metadata": {},
   "outputs": [],
   "source": [
    "datos_muestra = datos.sample(n=10000, random_state = 202011)"
   ]
  },
  {
   "cell_type": "markdown",
   "metadata": {},
   "source": [
    "### Ejercicio 1"
   ]
  },
  {
   "cell_type": "markdown",
   "metadata": {},
   "source": [
    "Experimentar con diferentes niveles de soporte, confianza y lift para encotrar reglas de asociación que les hagan sentido considerando la variable ingreso_alto como consecuente"
   ]
  },
  {
   "cell_type": "code",
   "execution_count": 22,
   "metadata": {},
   "outputs": [],
   "source": [
    "# Importat las funciones a utilizar\n",
    "from mlxtend.frequent_patterns import apriori, association_rules"
   ]
  },
  {
   "cell_type": "markdown",
   "metadata": {},
   "source": [
    "Experimentar con distintos niveles de soporte y el máximo número elementos en los itemsets."
   ]
  },
  {
   "cell_type": "code",
   "execution_count": 27,
   "metadata": {},
   "outputs": [],
   "source": [
    "# Usar el algoritmo Apriori para obtener itemsets frecuentes\n",
    "frequent_itemsets = apriori(datos, \n",
    "                            min_support =  .3, #Inserta valor \n",
    "                            max_len =  3, #Inserta valor\n",
    "                            use_colnames = True,\n",
    "                            low_memory = True)"
   ]
  },
  {
   "cell_type": "code",
   "execution_count": 28,
   "metadata": {},
   "outputs": [
    {
     "name": "stdout",
     "output_type": "stream",
     "text": [
      "(2736, 2)\n",
      "    support    itemsets\n",
      "0  0.995458  (alim17_1)\n",
      "1  0.836565  (alim17_2)\n",
      "2  0.943119  (alim17_3)\n",
      "3  0.895706  (alim17_4)\n",
      "4  0.925605  (alim17_5)\n"
     ]
    }
   ],
   "source": [
    "print(frequent_itemsets.shape)\n",
    "print(frequent_itemsets.head())"
   ]
  },
  {
   "cell_type": "code",
   "execution_count": 29,
   "metadata": {},
   "outputs": [
    {
     "data": {
      "text/html": [
       "<div>\n",
       "<style scoped>\n",
       "    .dataframe tbody tr th:only-of-type {\n",
       "        vertical-align: middle;\n",
       "    }\n",
       "\n",
       "    .dataframe tbody tr th {\n",
       "        vertical-align: top;\n",
       "    }\n",
       "\n",
       "    .dataframe thead th {\n",
       "        text-align: right;\n",
       "    }\n",
       "</style>\n",
       "<table border=\"1\" class=\"dataframe\">\n",
       "  <thead>\n",
       "    <tr style=\"text-align: right;\">\n",
       "      <th></th>\n",
       "      <th>support</th>\n",
       "      <th>itemsets</th>\n",
       "    </tr>\n",
       "  </thead>\n",
       "  <tbody>\n",
       "    <tr>\n",
       "      <th>26</th>\n",
       "      <td>0.351661</td>\n",
       "      <td>(ingreso_alto)</td>\n",
       "    </tr>\n",
       "  </tbody>\n",
       "</table>\n",
       "</div>"
      ],
      "text/plain": [
       "     support        itemsets\n",
       "26  0.351661  (ingreso_alto)"
      ]
     },
     "execution_count": 29,
     "metadata": {},
     "output_type": "execute_result"
    }
   ],
   "source": [
    "frequent_itemsets[frequent_itemsets['itemsets']=={'ingreso_alto'}]"
   ]
  },
  {
   "cell_type": "markdown",
   "metadata": {},
   "source": [
    "Experimentar con distintos valores (pueden variar la métrica si lo consideran adecuado)"
   ]
  },
  {
   "cell_type": "code",
   "execution_count": 53,
   "metadata": {},
   "outputs": [],
   "source": [
    "# Generar reglas de asociación con un nivel mínimo de confianza\n",
    "rules = association_rules(frequent_itemsets, \n",
    "                          metric = 'support', \n",
    "                          min_threshold = .32) # Inserta valor\n"
   ]
  },
  {
   "cell_type": "code",
   "execution_count": 54,
   "metadata": {},
   "outputs": [
    {
     "name": "stdout",
     "output_type": "stream",
     "text": [
      "(14046, 9)\n",
      "  antecedents consequents  antecedent support  consequent support   support  \\\n",
      "0  (alim17_1)  (alim17_2)            0.995458            0.836565  0.835096   \n",
      "1  (alim17_2)  (alim17_1)            0.836565            0.995458  0.835096   \n",
      "2  (alim17_1)  (alim17_3)            0.995458            0.943119  0.940972   \n",
      "3  (alim17_3)  (alim17_1)            0.943119            0.995458  0.940972   \n",
      "4  (alim17_1)  (alim17_4)            0.995458            0.895706  0.893401   \n",
      "\n",
      "   confidence      lift  leverage  conviction  \n",
      "0    0.838907  1.002799  0.002331    1.014536  \n",
      "1    0.998244  1.002799  0.002331    2.586916  \n",
      "2    0.945265  1.002276  0.002137    1.039223  \n",
      "3    0.997724  1.002276  0.002137    1.995440  \n",
      "4    0.897478  1.001978  0.001764    1.017280  \n"
     ]
    }
   ],
   "source": [
    "print(rules.shape)\n",
    "print(rules.head())"
   ]
  },
  {
   "cell_type": "code",
   "execution_count": 55,
   "metadata": {},
   "outputs": [
    {
     "data": {
      "text/html": [
       "<div>\n",
       "<style scoped>\n",
       "    .dataframe tbody tr th:only-of-type {\n",
       "        vertical-align: middle;\n",
       "    }\n",
       "\n",
       "    .dataframe tbody tr th {\n",
       "        vertical-align: top;\n",
       "    }\n",
       "\n",
       "    .dataframe thead th {\n",
       "        text-align: right;\n",
       "    }\n",
       "</style>\n",
       "<table border=\"1\" class=\"dataframe\">\n",
       "  <thead>\n",
       "    <tr style=\"text-align: right;\">\n",
       "      <th></th>\n",
       "      <th>antecedents</th>\n",
       "      <th>consequents</th>\n",
       "      <th>antecedent support</th>\n",
       "      <th>consequent support</th>\n",
       "      <th>support</th>\n",
       "      <th>confidence</th>\n",
       "      <th>lift</th>\n",
       "      <th>leverage</th>\n",
       "      <th>conviction</th>\n",
       "    </tr>\n",
       "  </thead>\n",
       "  <tbody>\n",
       "    <tr>\n",
       "      <th>50</th>\n",
       "      <td>(alim17_1)</td>\n",
       "      <td>(ingreso_alto)</td>\n",
       "      <td>0.995458</td>\n",
       "      <td>0.351661</td>\n",
       "      <td>0.349582</td>\n",
       "      <td>0.351177</td>\n",
       "      <td>0.998624</td>\n",
       "      <td>-0.000482</td>\n",
       "      <td>0.999254</td>\n",
       "    </tr>\n",
       "    <tr>\n",
       "      <th>143</th>\n",
       "      <td>(alim17_3)</td>\n",
       "      <td>(ingreso_alto)</td>\n",
       "      <td>0.943119</td>\n",
       "      <td>0.351661</td>\n",
       "      <td>0.340746</td>\n",
       "      <td>0.361297</td>\n",
       "      <td>1.027401</td>\n",
       "      <td>0.009088</td>\n",
       "      <td>1.015087</td>\n",
       "    </tr>\n",
       "    <tr>\n",
       "      <th>187</th>\n",
       "      <td>(alim17_4)</td>\n",
       "      <td>(ingreso_alto)</td>\n",
       "      <td>0.895706</td>\n",
       "      <td>0.351661</td>\n",
       "      <td>0.331390</td>\n",
       "      <td>0.369976</td>\n",
       "      <td>1.052081</td>\n",
       "      <td>0.016405</td>\n",
       "      <td>1.029070</td>\n",
       "    </tr>\n",
       "    <tr>\n",
       "      <th>230</th>\n",
       "      <td>(alim17_5)</td>\n",
       "      <td>(ingreso_alto)</td>\n",
       "      <td>0.925605</td>\n",
       "      <td>0.351661</td>\n",
       "      <td>0.340384</td>\n",
       "      <td>0.367743</td>\n",
       "      <td>1.045730</td>\n",
       "      <td>0.014885</td>\n",
       "      <td>1.025435</td>\n",
       "    </tr>\n",
       "    <tr>\n",
       "      <th>272</th>\n",
       "      <td>(alim17_6)</td>\n",
       "      <td>(ingreso_alto)</td>\n",
       "      <td>0.943910</td>\n",
       "      <td>0.351661</td>\n",
       "      <td>0.335367</td>\n",
       "      <td>0.355296</td>\n",
       "      <td>1.010336</td>\n",
       "      <td>0.003431</td>\n",
       "      <td>1.005638</td>\n",
       "    </tr>\n",
       "  </tbody>\n",
       "</table>\n",
       "</div>"
      ],
      "text/plain": [
       "    antecedents     consequents  antecedent support  consequent support  \\\n",
       "50   (alim17_1)  (ingreso_alto)            0.995458            0.351661   \n",
       "143  (alim17_3)  (ingreso_alto)            0.943119            0.351661   \n",
       "187  (alim17_4)  (ingreso_alto)            0.895706            0.351661   \n",
       "230  (alim17_5)  (ingreso_alto)            0.925605            0.351661   \n",
       "272  (alim17_6)  (ingreso_alto)            0.943910            0.351661   \n",
       "\n",
       "      support  confidence      lift  leverage  conviction  \n",
       "50   0.349582    0.351177  0.998624 -0.000482    0.999254  \n",
       "143  0.340746    0.361297  1.027401  0.009088    1.015087  \n",
       "187  0.331390    0.369976  1.052081  0.016405    1.029070  \n",
       "230  0.340384    0.367743  1.045730  0.014885    1.025435  \n",
       "272  0.335367    0.355296  1.010336  0.003431    1.005638  "
      ]
     },
     "execution_count": 55,
     "metadata": {},
     "output_type": "execute_result"
    }
   ],
   "source": [
    "rules_income_consecuent = rules[rules['consequents'] == {'ingreso_alto'}]\n",
    "rules_income_consecuent.head()"
   ]
  },
  {
   "cell_type": "code",
   "execution_count": 56,
   "metadata": {},
   "outputs": [
    {
     "data": {
      "text/plain": [
       "(120, 9)"
      ]
     },
     "execution_count": 56,
     "metadata": {},
     "output_type": "execute_result"
    }
   ],
   "source": [
    "rules_income_consecuent.shape"
   ]
  },
  {
   "cell_type": "code",
   "execution_count": 57,
   "metadata": {},
   "outputs": [],
   "source": [
    "# Librerías para graficar\n",
    "import matplotlib.pyplot as plt\n",
    "import seaborn as sns"
   ]
  },
  {
   "cell_type": "code",
   "execution_count": 58,
   "metadata": {},
   "outputs": [
    {
     "data": {
      "image/png": "[encoded data removed]",
      "text/plain": [
       "<Figure size 720x720 with 1 Axes>"
      ]
     },
     "metadata": {
      "needs_background": "light"
     },
     "output_type": "display_data"
    }
   ],
   "source": [
    "plt.figure(figsize=(10,10))\n",
    "sns.scatterplot(x = \"support\", y = \"confidence\", size = \"lift\", data = rules_income_consecuent)\n",
    "\n",
    "plt.show()"
   ]
  },
  {
   "cell_type": "markdown",
   "metadata": {},
   "source": [
    "Experimentar con distintos niveles de de soporte, confianza y lift"
   ]
  },
  {
   "cell_type": "code",
   "execution_count": 77,
   "metadata": {},
   "outputs": [],
   "source": [
    "filtered_rules = rules_income_consecuent[(rules_income_consecuent['support'] > .35) &  # Modifca el valor\n",
    "                (rules_income_consecuent['confidence'] > .35) & # Modifica el valor\n",
    "                (rules_income_consecuent['lift'] >= 1)] # Modifica el valor"
   ]
  },
  {
   "cell_type": "code",
   "execution_count": 78,
   "metadata": {},
   "outputs": [
    {
     "name": "stdout",
     "output_type": "stream",
     "text": [
      "(10, 9)\n"
     ]
    }
   ],
   "source": [
    "print(filtered_rules.shape)"
   ]
  },
  {
   "cell_type": "code",
   "execution_count": 83,
   "metadata": {},
   "outputs": [
    {
     "name": "stdout",
     "output_type": "stream",
     "text": [
      "                  antecedents     consequents  antecedent support  \\\n",
      "498                (telefono)  (ingreso_alto)                 1.0   \n",
      "524                 (celular)  (ingreso_alto)                 1.0   \n",
      "548                 (tv_paga)  (ingreso_alto)                 1.0   \n",
      "570              (conex_inte)  (ingreso_alto)                 1.0   \n",
      "12546     (celular, telefono)  (ingreso_alto)                 1.0   \n",
      "12618     (tv_paga, telefono)  (ingreso_alto)                 1.0   \n",
      "12684  (conex_inte, telefono)  (ingreso_alto)                 1.0   \n",
      "12966      (celular, tv_paga)  (ingreso_alto)                 1.0   \n",
      "13032   (celular, conex_inte)  (ingreso_alto)                 1.0   \n",
      "13308   (tv_paga, conex_inte)  (ingreso_alto)                 1.0   \n",
      "\n",
      "       consequent support   support  confidence  lift  leverage  conviction  \n",
      "498              0.351661  0.351661    0.351661   1.0       0.0         1.0  \n",
      "524              0.351661  0.351661    0.351661   1.0       0.0         1.0  \n",
      "548              0.351661  0.351661    0.351661   1.0       0.0         1.0  \n",
      "570              0.351661  0.351661    0.351661   1.0       0.0         1.0  \n",
      "12546            0.351661  0.351661    0.351661   1.0       0.0         1.0  \n",
      "12618            0.351661  0.351661    0.351661   1.0       0.0         1.0  \n",
      "12684            0.351661  0.351661    0.351661   1.0       0.0         1.0  \n",
      "12966            0.351661  0.351661    0.351661   1.0       0.0         1.0  \n",
      "13032            0.351661  0.351661    0.351661   1.0       0.0         1.0  \n",
      "13308            0.351661  0.351661    0.351661   1.0       0.0         1.0  \n"
     ]
    }
   ],
   "source": [
    "print(filtered_rules)"
   ]
  },
  {
   "cell_type": "code",
   "execution_count": 80,
   "metadata": {},
   "outputs": [
    {
     "data": {
      "text/html": [
       "<div>\n",
       "<style scoped>\n",
       "    .dataframe tbody tr th:only-of-type {\n",
       "        vertical-align: middle;\n",
       "    }\n",
       "\n",
       "    .dataframe tbody tr th {\n",
       "        vertical-align: top;\n",
       "    }\n",
       "\n",
       "    .dataframe thead th {\n",
       "        text-align: right;\n",
       "    }\n",
       "</style>\n",
       "<table border=\"1\" class=\"dataframe\">\n",
       "  <thead>\n",
       "    <tr style=\"text-align: right;\">\n",
       "      <th></th>\n",
       "      <th>antecedents</th>\n",
       "      <th>consequents</th>\n",
       "      <th>antecedent support</th>\n",
       "      <th>consequent support</th>\n",
       "      <th>support</th>\n",
       "      <th>confidence</th>\n",
       "      <th>lift</th>\n",
       "      <th>leverage</th>\n",
       "      <th>conviction</th>\n",
       "    </tr>\n",
       "  </thead>\n",
       "  <tbody>\n",
       "    <tr>\n",
       "      <th>50</th>\n",
       "      <td>(alim17_1)</td>\n",
       "      <td>(ingreso_alto)</td>\n",
       "      <td>0.995458</td>\n",
       "      <td>0.351661</td>\n",
       "      <td>0.349582</td>\n",
       "      <td>0.351177</td>\n",
       "      <td>0.998624</td>\n",
       "      <td>-0.000482</td>\n",
       "      <td>0.999254</td>\n",
       "    </tr>\n",
       "    <tr>\n",
       "      <th>143</th>\n",
       "      <td>(alim17_3)</td>\n",
       "      <td>(ingreso_alto)</td>\n",
       "      <td>0.943119</td>\n",
       "      <td>0.351661</td>\n",
       "      <td>0.340746</td>\n",
       "      <td>0.361297</td>\n",
       "      <td>1.027401</td>\n",
       "      <td>0.009088</td>\n",
       "      <td>1.015087</td>\n",
       "    </tr>\n",
       "    <tr>\n",
       "      <th>187</th>\n",
       "      <td>(alim17_4)</td>\n",
       "      <td>(ingreso_alto)</td>\n",
       "      <td>0.895706</td>\n",
       "      <td>0.351661</td>\n",
       "      <td>0.331390</td>\n",
       "      <td>0.369976</td>\n",
       "      <td>1.052081</td>\n",
       "      <td>0.016405</td>\n",
       "      <td>1.029070</td>\n",
       "    </tr>\n",
       "    <tr>\n",
       "      <th>230</th>\n",
       "      <td>(alim17_5)</td>\n",
       "      <td>(ingreso_alto)</td>\n",
       "      <td>0.925605</td>\n",
       "      <td>0.351661</td>\n",
       "      <td>0.340384</td>\n",
       "      <td>0.367743</td>\n",
       "      <td>1.045730</td>\n",
       "      <td>0.014885</td>\n",
       "      <td>1.025435</td>\n",
       "    </tr>\n",
       "    <tr>\n",
       "      <th>272</th>\n",
       "      <td>(alim17_6)</td>\n",
       "      <td>(ingreso_alto)</td>\n",
       "      <td>0.943910</td>\n",
       "      <td>0.351661</td>\n",
       "      <td>0.335367</td>\n",
       "      <td>0.355296</td>\n",
       "      <td>1.010336</td>\n",
       "      <td>0.003431</td>\n",
       "      <td>1.005638</td>\n",
       "    </tr>\n",
       "    <tr>\n",
       "      <th>...</th>\n",
       "      <td>...</td>\n",
       "      <td>...</td>\n",
       "      <td>...</td>\n",
       "      <td>...</td>\n",
       "      <td>...</td>\n",
       "      <td>...</td>\n",
       "      <td>...</td>\n",
       "      <td>...</td>\n",
       "      <td>...</td>\n",
       "    </tr>\n",
       "    <tr>\n",
       "      <th>13500</th>\n",
       "      <td>(tv_paga, num_estuf)</td>\n",
       "      <td>(ingreso_alto)</td>\n",
       "      <td>0.903277</td>\n",
       "      <td>0.351661</td>\n",
       "      <td>0.337220</td>\n",
       "      <td>0.373330</td>\n",
       "      <td>1.061619</td>\n",
       "      <td>0.019573</td>\n",
       "      <td>1.034578</td>\n",
       "    </tr>\n",
       "    <tr>\n",
       "      <th>13632</th>\n",
       "      <td>(num_licua, conex_inte)</td>\n",
       "      <td>(ingreso_alto)</td>\n",
       "      <td>0.872565</td>\n",
       "      <td>0.351661</td>\n",
       "      <td>0.326960</td>\n",
       "      <td>0.374712</td>\n",
       "      <td>1.065549</td>\n",
       "      <td>0.020113</td>\n",
       "      <td>1.036864</td>\n",
       "    </tr>\n",
       "    <tr>\n",
       "      <th>13686</th>\n",
       "      <td>(conex_inte, num_refri)</td>\n",
       "      <td>(ingreso_alto)</td>\n",
       "      <td>0.880565</td>\n",
       "      <td>0.351661</td>\n",
       "      <td>0.333469</td>\n",
       "      <td>0.378699</td>\n",
       "      <td>1.076886</td>\n",
       "      <td>0.023809</td>\n",
       "      <td>1.043518</td>\n",
       "    </tr>\n",
       "    <tr>\n",
       "      <th>13710</th>\n",
       "      <td>(conex_inte, num_estuf)</td>\n",
       "      <td>(ingreso_alto)</td>\n",
       "      <td>0.903277</td>\n",
       "      <td>0.351661</td>\n",
       "      <td>0.337220</td>\n",
       "      <td>0.373330</td>\n",
       "      <td>1.061619</td>\n",
       "      <td>0.019573</td>\n",
       "      <td>1.034578</td>\n",
       "    </tr>\n",
       "    <tr>\n",
       "      <th>13998</th>\n",
       "      <td>(num_estuf, num_refri)</td>\n",
       "      <td>(ingreso_alto)</td>\n",
       "      <td>0.840678</td>\n",
       "      <td>0.351661</td>\n",
       "      <td>0.326192</td>\n",
       "      <td>0.388011</td>\n",
       "      <td>1.103366</td>\n",
       "      <td>0.030558</td>\n",
       "      <td>1.059396</td>\n",
       "    </tr>\n",
       "  </tbody>\n",
       "</table>\n",
       "<p>120 rows × 9 columns</p>\n",
       "</div>"
      ],
      "text/plain": [
       "                   antecedents     consequents  antecedent support  \\\n",
       "50                  (alim17_1)  (ingreso_alto)            0.995458   \n",
       "143                 (alim17_3)  (ingreso_alto)            0.943119   \n",
       "187                 (alim17_4)  (ingreso_alto)            0.895706   \n",
       "230                 (alim17_5)  (ingreso_alto)            0.925605   \n",
       "272                 (alim17_6)  (ingreso_alto)            0.943910   \n",
       "...                        ...             ...                 ...   \n",
       "13500     (tv_paga, num_estuf)  (ingreso_alto)            0.903277   \n",
       "13632  (num_licua, conex_inte)  (ingreso_alto)            0.872565   \n",
       "13686  (conex_inte, num_refri)  (ingreso_alto)            0.880565   \n",
       "13710  (conex_inte, num_estuf)  (ingreso_alto)            0.903277   \n",
       "13998   (num_estuf, num_refri)  (ingreso_alto)            0.840678   \n",
       "\n",
       "       consequent support   support  confidence      lift  leverage  \\\n",
       "50               0.351661  0.349582    0.351177  0.998624 -0.000482   \n",
       "143              0.351661  0.340746    0.361297  1.027401  0.009088   \n",
       "187              0.351661  0.331390    0.369976  1.052081  0.016405   \n",
       "230              0.351661  0.340384    0.367743  1.045730  0.014885   \n",
       "272              0.351661  0.335367    0.355296  1.010336  0.003431   \n",
       "...                   ...       ...         ...       ...       ...   \n",
       "13500            0.351661  0.337220    0.373330  1.061619  0.019573   \n",
       "13632            0.351661  0.326960    0.374712  1.065549  0.020113   \n",
       "13686            0.351661  0.333469    0.378699  1.076886  0.023809   \n",
       "13710            0.351661  0.337220    0.373330  1.061619  0.019573   \n",
       "13998            0.351661  0.326192    0.388011  1.103366  0.030558   \n",
       "\n",
       "       conviction  \n",
       "50       0.999254  \n",
       "143      1.015087  \n",
       "187      1.029070  \n",
       "230      1.025435  \n",
       "272      1.005638  \n",
       "...           ...  \n",
       "13500    1.034578  \n",
       "13632    1.036864  \n",
       "13686    1.043518  \n",
       "13710    1.034578  \n",
       "13998    1.059396  \n",
       "\n",
       "[120 rows x 9 columns]"
      ]
     },
     "execution_count": 80,
     "metadata": {},
     "output_type": "execute_result"
    }
   ],
   "source": [
    "rules_income_consecuent"
   ]
  },
  {
   "cell_type": "markdown",
   "metadata": {},
   "source": [
    "### Describir hallazgos"
   ]
  },
  {
   "cell_type": "markdown",
   "metadata": {},
   "source": [
    "Podemos encontrar a partir de la información que no hay una varible que marque mucho el ingreso alto pero las principales debido a su soporte y a la mayor confianza estarian:\n",
    "* telefono\n",
    "* celular\n",
    "* tv_paga\n",
    "* conex_inte"
   ]
  },
  {
   "cell_type": "markdown",
   "metadata": {},
   "source": [
    "## Ejercicio 2"
   ]
  },
  {
   "cell_type": "markdown",
   "metadata": {},
   "source": [
    "Calcular la métrica de Zhang a la tabla rules_income_consecuent"
   ]
  },
  {
   "cell_type": "code",
   "execution_count": 86,
   "metadata": {},
   "outputs": [
    {
     "data": {
      "text/html": [
       "<div>\n",
       "<style scoped>\n",
       "    .dataframe tbody tr th:only-of-type {\n",
       "        vertical-align: middle;\n",
       "    }\n",
       "\n",
       "    .dataframe tbody tr th {\n",
       "        vertical-align: top;\n",
       "    }\n",
       "\n",
       "    .dataframe thead th {\n",
       "        text-align: right;\n",
       "    }\n",
       "</style>\n",
       "<table border=\"1\" class=\"dataframe\">\n",
       "  <thead>\n",
       "    <tr style=\"text-align: right;\">\n",
       "      <th></th>\n",
       "      <th>support</th>\n",
       "      <th>itemsets</th>\n",
       "    </tr>\n",
       "  </thead>\n",
       "  <tbody>\n",
       "    <tr>\n",
       "      <th>26</th>\n",
       "      <td>0.351661</td>\n",
       "      <td>(ingreso_alto)</td>\n",
       "    </tr>\n",
       "  </tbody>\n",
       "</table>\n",
       "</div>"
      ],
      "text/plain": [
       "     support        itemsets\n",
       "26  0.351661  (ingreso_alto)"
      ]
     },
     "execution_count": 86,
     "metadata": {},
     "output_type": "execute_result"
    }
   ],
   "source": [
    "frequent_itemsets[frequent_itemsets['itemsets']=={'ingreso_alto'}]"
   ]
  },
  {
   "cell_type": "code",
   "execution_count": 89,
   "metadata": {},
   "outputs": [],
   "source": [
    "soporte_b = frequent_itemsets[frequent_itemsets['itemsets']=={'ingreso_alto'}]['support']"
   ]
  },
  {
   "cell_type": "code",
   "execution_count": 90,
   "metadata": {},
   "outputs": [
    {
     "data": {
      "text/plain": [
       "26    0.351661\n",
       "Name: support, dtype: float64"
      ]
     },
     "execution_count": 90,
     "metadata": {},
     "output_type": "execute_result"
    }
   ],
   "source": [
    "soporte_b"
   ]
  },
  {
   "cell_type": "code",
   "execution_count": 85,
   "metadata": {},
   "outputs": [
    {
     "data": {
      "text/plain": [
       "50                    (alim17_1)\n",
       "143                   (alim17_3)\n",
       "187                   (alim17_4)\n",
       "230                   (alim17_5)\n",
       "272                   (alim17_6)\n",
       "                  ...           \n",
       "13500       (tv_paga, num_estuf)\n",
       "13632    (num_licua, conex_inte)\n",
       "13686    (conex_inte, num_refri)\n",
       "13710    (conex_inte, num_estuf)\n",
       "13998     (num_estuf, num_refri)\n",
       "Name: antecedents, Length: 120, dtype: object"
      ]
     },
     "execution_count": 85,
     "metadata": {},
     "output_type": "execute_result"
    }
   ],
   "source": [
    "rules_income_consecuent['antecedents']"
   ]
  },
  {
   "cell_type": "code",
   "execution_count": 92,
   "metadata": {},
   "outputs": [
    {
     "data": {
      "text/plain": [
       "50       0.995458\n",
       "143      0.943119\n",
       "187      0.895706\n",
       "230      0.925605\n",
       "272      0.943910\n",
       "           ...   \n",
       "13500    0.903277\n",
       "13632    0.872565\n",
       "13686    0.880565\n",
       "13710    0.903277\n",
       "13998    0.840678\n",
       "Name: antecedent support, Length: 120, dtype: float64"
      ]
     },
     "execution_count": 92,
     "metadata": {},
     "output_type": "execute_result"
    }
   ],
   "source": [
    "rules_income_consecuent['antecedent support']"
   ]
  },
  {
   "cell_type": "code",
   "execution_count": 108,
   "metadata": {},
   "outputs": [
    {
     "name": "stderr",
     "output_type": "stream",
     "text": [
      "/home/vick/virtual_env/lib/python3.6/site-packages/ipykernel_launcher.py:1: SettingWithCopyWarning: \n",
      "A value is trying to be set on a copy of a slice from a DataFrame.\n",
      "Try using .loc[row_indexer,col_indexer] = value instead\n",
      "\n",
      "See the caveats in the documentation: https://pandas.pydata.org/pandas-docs/stable/user_guide/indexing.html#returning-a-view-versus-a-copy\n",
      "  \"\"\"Entry point for launching an IPython kernel.\n"
     ]
    }
   ],
   "source": [
    "rules_income_consecuent['zhang'] = (rules_income_consecuent['support'] - rules_income_consecuent['antecedent support']*rules_income_consecuent['consequent support'])/[max([x,y]) for x,y in zip(rules_income_consecuent['support']*(1-rules_income_consecuent['antecedent support']),rules_income_consecuent['antecedent support']*rules_income_consecuent['consequent support']-rules_income_consecuent['support'])]"
   ]
  },
  {
   "cell_type": "code",
   "execution_count": 113,
   "metadata": {},
   "outputs": [],
   "source": [
    "rules_income_consecuent = rules_income_consecuent.dropna()"
   ]
  },
  {
   "cell_type": "code",
   "execution_count": 115,
   "metadata": {},
   "outputs": [
    {
     "data": {
      "text/html": [
       "<div>\n",
       "<style scoped>\n",
       "    .dataframe tbody tr th:only-of-type {\n",
       "        vertical-align: middle;\n",
       "    }\n",
       "\n",
       "    .dataframe tbody tr th {\n",
       "        vertical-align: top;\n",
       "    }\n",
       "\n",
       "    .dataframe thead th {\n",
       "        text-align: right;\n",
       "    }\n",
       "</style>\n",
       "<table border=\"1\" class=\"dataframe\">\n",
       "  <thead>\n",
       "    <tr style=\"text-align: right;\">\n",
       "      <th></th>\n",
       "      <th>antecedents</th>\n",
       "      <th>consequents</th>\n",
       "      <th>antecedent support</th>\n",
       "      <th>consequent support</th>\n",
       "      <th>support</th>\n",
       "      <th>confidence</th>\n",
       "      <th>lift</th>\n",
       "      <th>leverage</th>\n",
       "      <th>conviction</th>\n",
       "      <th>zhang</th>\n",
       "    </tr>\n",
       "  </thead>\n",
       "  <tbody>\n",
       "    <tr>\n",
       "      <th>50</th>\n",
       "      <td>(alim17_1)</td>\n",
       "      <td>(ingreso_alto)</td>\n",
       "      <td>0.995458</td>\n",
       "      <td>0.351661</td>\n",
       "      <td>0.349582</td>\n",
       "      <td>0.351177</td>\n",
       "      <td>0.998624</td>\n",
       "      <td>-0.000482</td>\n",
       "      <td>0.999254</td>\n",
       "      <td>-0.303364</td>\n",
       "    </tr>\n",
       "    <tr>\n",
       "      <th>2196</th>\n",
       "      <td>(alim17_1, conex_inte)</td>\n",
       "      <td>(ingreso_alto)</td>\n",
       "      <td>0.995458</td>\n",
       "      <td>0.351661</td>\n",
       "      <td>0.349582</td>\n",
       "      <td>0.351177</td>\n",
       "      <td>0.998624</td>\n",
       "      <td>-0.000482</td>\n",
       "      <td>0.999254</td>\n",
       "      <td>-0.303364</td>\n",
       "    </tr>\n",
       "    <tr>\n",
       "      <th>2130</th>\n",
       "      <td>(alim17_1, tv_paga)</td>\n",
       "      <td>(ingreso_alto)</td>\n",
       "      <td>0.995458</td>\n",
       "      <td>0.351661</td>\n",
       "      <td>0.349582</td>\n",
       "      <td>0.351177</td>\n",
       "      <td>0.998624</td>\n",
       "      <td>-0.000482</td>\n",
       "      <td>0.999254</td>\n",
       "      <td>-0.303364</td>\n",
       "    </tr>\n",
       "    <tr>\n",
       "      <th>2058</th>\n",
       "      <td>(alim17_1, celular)</td>\n",
       "      <td>(ingreso_alto)</td>\n",
       "      <td>0.995458</td>\n",
       "      <td>0.351661</td>\n",
       "      <td>0.349582</td>\n",
       "      <td>0.351177</td>\n",
       "      <td>0.998624</td>\n",
       "      <td>-0.000482</td>\n",
       "      <td>0.999254</td>\n",
       "      <td>-0.303364</td>\n",
       "    </tr>\n",
       "    <tr>\n",
       "      <th>1980</th>\n",
       "      <td>(alim17_1, telefono)</td>\n",
       "      <td>(ingreso_alto)</td>\n",
       "      <td>0.995458</td>\n",
       "      <td>0.351661</td>\n",
       "      <td>0.349582</td>\n",
       "      <td>0.351177</td>\n",
       "      <td>0.998624</td>\n",
       "      <td>-0.000482</td>\n",
       "      <td>0.999254</td>\n",
       "      <td>-0.303364</td>\n",
       "    </tr>\n",
       "  </tbody>\n",
       "</table>\n",
       "</div>"
      ],
      "text/plain": [
       "                 antecedents     consequents  antecedent support  \\\n",
       "50                (alim17_1)  (ingreso_alto)            0.995458   \n",
       "2196  (alim17_1, conex_inte)  (ingreso_alto)            0.995458   \n",
       "2130     (alim17_1, tv_paga)  (ingreso_alto)            0.995458   \n",
       "2058     (alim17_1, celular)  (ingreso_alto)            0.995458   \n",
       "1980    (alim17_1, telefono)  (ingreso_alto)            0.995458   \n",
       "\n",
       "      consequent support   support  confidence      lift  leverage  \\\n",
       "50              0.351661  0.349582    0.351177  0.998624 -0.000482   \n",
       "2196            0.351661  0.349582    0.351177  0.998624 -0.000482   \n",
       "2130            0.351661  0.349582    0.351177  0.998624 -0.000482   \n",
       "2058            0.351661  0.349582    0.351177  0.998624 -0.000482   \n",
       "1980            0.351661  0.349582    0.351177  0.998624 -0.000482   \n",
       "\n",
       "      conviction     zhang  \n",
       "50      0.999254 -0.303364  \n",
       "2196    0.999254 -0.303364  \n",
       "2130    0.999254 -0.303364  \n",
       "2058    0.999254 -0.303364  \n",
       "1980    0.999254 -0.303364  "
      ]
     },
     "execution_count": 115,
     "metadata": {},
     "output_type": "execute_result"
    }
   ],
   "source": [
    "rules_income_consecuent.sort_values(by=['zhang']).head(5)"
   ]
  },
  {
   "cell_type": "code",
   "execution_count": 116,
   "metadata": {},
   "outputs": [
    {
     "data": {
      "text/html": [
       "<div>\n",
       "<style scoped>\n",
       "    .dataframe tbody tr th:only-of-type {\n",
       "        vertical-align: middle;\n",
       "    }\n",
       "\n",
       "    .dataframe tbody tr th {\n",
       "        vertical-align: top;\n",
       "    }\n",
       "\n",
       "    .dataframe thead th {\n",
       "        text-align: right;\n",
       "    }\n",
       "</style>\n",
       "<table border=\"1\" class=\"dataframe\">\n",
       "  <thead>\n",
       "    <tr style=\"text-align: right;\">\n",
       "      <th></th>\n",
       "      <th>antecedents</th>\n",
       "      <th>consequents</th>\n",
       "      <th>antecedent support</th>\n",
       "      <th>consequent support</th>\n",
       "      <th>support</th>\n",
       "      <th>confidence</th>\n",
       "      <th>lift</th>\n",
       "      <th>leverage</th>\n",
       "      <th>conviction</th>\n",
       "      <th>zhang</th>\n",
       "    </tr>\n",
       "  </thead>\n",
       "  <tbody>\n",
       "    <tr>\n",
       "      <th>13710</th>\n",
       "      <td>(conex_inte, num_estuf)</td>\n",
       "      <td>(ingreso_alto)</td>\n",
       "      <td>0.903277</td>\n",
       "      <td>0.351661</td>\n",
       "      <td>0.33722</td>\n",
       "      <td>0.37333</td>\n",
       "      <td>1.061619</td>\n",
       "      <td>0.019573</td>\n",
       "      <td>1.034578</td>\n",
       "      <td>0.600088</td>\n",
       "    </tr>\n",
       "    <tr>\n",
       "      <th>12876</th>\n",
       "      <td>(num_estuf, telefono)</td>\n",
       "      <td>(ingreso_alto)</td>\n",
       "      <td>0.903277</td>\n",
       "      <td>0.351661</td>\n",
       "      <td>0.33722</td>\n",
       "      <td>0.37333</td>\n",
       "      <td>1.061619</td>\n",
       "      <td>0.019573</td>\n",
       "      <td>1.034578</td>\n",
       "      <td>0.600088</td>\n",
       "    </tr>\n",
       "    <tr>\n",
       "      <th>634</th>\n",
       "      <td>(num_estuf)</td>\n",
       "      <td>(ingreso_alto)</td>\n",
       "      <td>0.903277</td>\n",
       "      <td>0.351661</td>\n",
       "      <td>0.33722</td>\n",
       "      <td>0.37333</td>\n",
       "      <td>1.061619</td>\n",
       "      <td>0.019573</td>\n",
       "      <td>1.034578</td>\n",
       "      <td>0.600088</td>\n",
       "    </tr>\n",
       "    <tr>\n",
       "      <th>13224</th>\n",
       "      <td>(celular, num_estuf)</td>\n",
       "      <td>(ingreso_alto)</td>\n",
       "      <td>0.903277</td>\n",
       "      <td>0.351661</td>\n",
       "      <td>0.33722</td>\n",
       "      <td>0.37333</td>\n",
       "      <td>1.061619</td>\n",
       "      <td>0.019573</td>\n",
       "      <td>1.034578</td>\n",
       "      <td>0.600088</td>\n",
       "    </tr>\n",
       "    <tr>\n",
       "      <th>13500</th>\n",
       "      <td>(tv_paga, num_estuf)</td>\n",
       "      <td>(ingreso_alto)</td>\n",
       "      <td>0.903277</td>\n",
       "      <td>0.351661</td>\n",
       "      <td>0.33722</td>\n",
       "      <td>0.37333</td>\n",
       "      <td>1.061619</td>\n",
       "      <td>0.019573</td>\n",
       "      <td>1.034578</td>\n",
       "      <td>0.600088</td>\n",
       "    </tr>\n",
       "  </tbody>\n",
       "</table>\n",
       "</div>"
      ],
      "text/plain": [
       "                   antecedents     consequents  antecedent support  \\\n",
       "13710  (conex_inte, num_estuf)  (ingreso_alto)            0.903277   \n",
       "12876    (num_estuf, telefono)  (ingreso_alto)            0.903277   \n",
       "634                (num_estuf)  (ingreso_alto)            0.903277   \n",
       "13224     (celular, num_estuf)  (ingreso_alto)            0.903277   \n",
       "13500     (tv_paga, num_estuf)  (ingreso_alto)            0.903277   \n",
       "\n",
       "       consequent support  support  confidence      lift  leverage  \\\n",
       "13710            0.351661  0.33722     0.37333  1.061619  0.019573   \n",
       "12876            0.351661  0.33722     0.37333  1.061619  0.019573   \n",
       "634              0.351661  0.33722     0.37333  1.061619  0.019573   \n",
       "13224            0.351661  0.33722     0.37333  1.061619  0.019573   \n",
       "13500            0.351661  0.33722     0.37333  1.061619  0.019573   \n",
       "\n",
       "       conviction     zhang  \n",
       "13710    1.034578  0.600088  \n",
       "12876    1.034578  0.600088  \n",
       "634      1.034578  0.600088  \n",
       "13224    1.034578  0.600088  \n",
       "13500    1.034578  0.600088  "
      ]
     },
     "execution_count": 116,
     "metadata": {},
     "output_type": "execute_result"
    }
   ],
   "source": [
    "rules_income_consecuent.sort_values(by=['zhang']).tail(5)"
   ]
  },
  {
   "cell_type": "markdown",
   "metadata": {},
   "source": [
    "Al aplicar esta medida encontramos que los antecedentes posiitivos soon conexion a internet, numero de estufas y "
   ]
  }
 ],
 "metadata": {
  "kernelspec": {
   "display_name": "Python 3",
   "language": "python",
   "name": "python3"
  },
  "language_info": {
   "codemirror_mode": {
    "name": "ipython",
    "version": 3
   },
   "file_extension": ".py",
   "mimetype": "text/x-python",
   "name": "python",
   "nbconvert_exporter": "python",
   "pygments_lexer": "ipython3",
   "version": "3.6.9"
  }
 },
 "nbformat": 4,
 "nbformat_minor": 4
}
